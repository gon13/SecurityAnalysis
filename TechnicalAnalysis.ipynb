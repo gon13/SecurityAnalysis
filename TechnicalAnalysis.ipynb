{
  "nbformat": 4,
  "nbformat_minor": 0,
  "metadata": {
    "colab": {
      "name": "TechnicalAnalysis.ipynb",
      "provenance": [],
      "authorship_tag": "ABX9TyOWzLBQ2VLDHFPHn6X7lWFY",
      "include_colab_link": true
    },
    "kernelspec": {
      "name": "python3",
      "display_name": "Python 3"
    },
    "language_info": {
      "name": "python"
    }
  },
  "cells": [
    {
      "cell_type": "markdown",
      "metadata": {
        "id": "view-in-github",
        "colab_type": "text"
      },
      "source": [
        "<a href=\"https://colab.research.google.com/github/gon13/SecurityAnalysis/blob/main/TechnicalAnalysis.ipynb\" target=\"_parent\"><img src=\"https://colab.research.google.com/assets/colab-badge.svg\" alt=\"Open In Colab\"/></a>"
      ]
    },
    {
      "cell_type": "markdown",
      "metadata": {
        "id": "kkFv56swdzaK"
      },
      "source": [
        "Here I am going to try to code an automatic screener for selected companies based on technical analysis. "
      ]
    },
    {
      "cell_type": "code",
      "metadata": {
        "id": "N9a1bu2hdkcX"
      },
      "source": [
        ""
      ],
      "execution_count": null,
      "outputs": []
    }
  ]
}