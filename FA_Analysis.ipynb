{
  "nbformat": 4,
  "nbformat_minor": 0,
  "metadata": {
    "colab": {
      "name": "FA_Analysis.ipynb",
      "provenance": [],
      "toc_visible": true,
      "authorship_tag": "ABX9TyPeoynPirFC+bUxjM5TlSw9",
      "include_colab_link": true
    },
    "kernelspec": {
      "name": "python3",
      "display_name": "Python 3"
    },
    "language_info": {
      "name": "python"
    }
  },
  "cells": [
    {
      "cell_type": "markdown",
      "metadata": {
        "id": "view-in-github",
        "colab_type": "text"
      },
      "source": [
        "<a href=\"https://colab.research.google.com/github/gon13/SecurityAnalysis/blob/main/FA_Analysis.ipynb\" target=\"_parent\"><img src=\"https://colab.research.google.com/assets/colab-badge.svg\" alt=\"Open In Colab\"/></a>"
      ]
    },
    {
      "cell_type": "markdown",
      "metadata": {
        "id": "iopozettJIAl"
      },
      "source": [
        "# Fundamental Analysis of Financial Statements\n",
        "\n",
        "Here I am creating and implementing a fundamental analysis of companies by retrieving their financial information from https://financialmodelingprep.com/developer/docs\n",
        "\n",
        "For a given ticker, the code will extract the balance sheet, income statement and cash flows and will calculate the corresponding ratios.\n",
        "\n",
        "The code will return the necessary plots to asses the financial health of the company, as well as some \"fair valuation\" based on discounted cash flow (DCF), dividend discount model (DDM), historic PER and PEGR, enterprise value, and Lynch's fair value.\n",
        "\n",
        "As this will be automated, I'm expecting to be able to study the companies much quicker, and also to do the follow-up year after year. In addition, in the future I will try to implement this valuation model together witht the screener to find the companies with the highest upside potential according to my own criteria. \n",
        "\n",
        "It worth noting that, because I'm in the free version, I can only see the last 5 years (or quarters) for each company, and I only have 250 API calls per day. "
      ]
    },
    {
      "cell_type": "markdown",
      "metadata": {
        "id": "dr43LNjjLEZD"
      },
      "source": [
        "This piece of code retrieves the information "
      ]
    },
    {
      "cell_type": "code",
      "metadata": {
        "id": "1poSbtQdJDYM"
      },
      "source": [
        "#@title Information necessary for FA\n",
        "# Please enter here the ticker of the company\n",
        "ticker = \"AAPL\" #@param {type:\"string\"}\n"
      ],
      "execution_count": null,
      "outputs": []
    },
    {
      "cell_type": "code",
      "metadata": {
        "id": "dCAQ6kRrLvRr",
        "colab": {
          "base_uri": "https://localhost:8080/"
        },
        "outputId": "04296963-308c-4cb1-f1a7-aa2d0bbc15e6"
      },
      "source": [
        "import pandas as pd\n",
        "from urllib.request import urlopen\n",
        "import json\n",
        "\n",
        "key = \"405a786fd341c10c9e63f90f3280f388\"  # my personal number\n",
        "\n",
        "def financial_statements(ticker, period=\"annual\", limit=5):\n",
        "    \"\"\"\n",
        "    -----\n",
        "    DESCRIPTION\n",
        "    -----\n",
        "    Retrieves the financial statements of a company from FMP.\n",
        "\n",
        "    -----\n",
        "    INPUT\n",
        "    -----   \n",
        "    ticker [string]:\n",
        "        Ticker of the company whose financial statements will be downloaded\n",
        "    period [string]:\n",
        "        It can be either 'annual'  or 'quarter'\n",
        "    limit [number]:\n",
        "        Numer of results of search\n",
        "\n",
        "    -----\n",
        "    OUTPUT\n",
        "    -----   \n",
        "    income_statement: [dataframe]\n",
        "        Data of the income statement with variables in rows and the period in columns.\n",
        "    balance_sheet: [dataframe]\n",
        "        Data of the balance sheet with variables in rows and the period in columns.\n",
        "    cash_flow: [dataframe]\n",
        "        Data of the cash flows with variables in rows and the period in columns.\n",
        "\n",
        "        \"\"\"\n",
        "\n",
        "    url =\"https://financialmodelingprep.com/api/v3/\"\n",
        "\n",
        "    financial_statement = [\"income-statement\", \"balance-sheet-statement\", \"cash-flow-statement\"] \n",
        "\n",
        "    dic = {}\n",
        "\n",
        "    for i in financial_statement:\n",
        "\n",
        "        # print(\"https://financialmodelingprep.com/api/v3/\" + i + \"/\" +\n",
        "                    #    ticker + \"?period=\" + period + \"&limit=\" + str(limit) + \"&apikey=\" + key)\n",
        "        response = urlopen(\"https://financialmodelingprep.com/api/v3/\" + i + \"/\" +\n",
        "                       ticker + \"?period=\" + period + \"&limit=\" + str(limit) + \"&apikey=\" + key)\n",
        "        data = json.loads(response.read().decode(\"utf-8\"))\n",
        "\n",
        "        data_formatted = {}\n",
        "        for value in data:\n",
        "            if period == \"quarter\":\n",
        "                date = value['date'][:7]\n",
        "            else:\n",
        "                date = value['date'][:4]\n",
        "            del value['date']\n",
        "            del value['symbol']\n",
        "            data_formatted[date] = value\n",
        "\n",
        "        # print(data_formatted)\n",
        "        dic[f\"{i}\"] = pd.DataFrame(data_formatted)\n",
        "\n",
        "    return dic[\"income-statement\"], dic[\"balance-sheet-statement\"], dic[\"cash-flow-statement\"]\n",
        "\n",
        "\n",
        "\n",
        "aa, bb, cc = financial_statements(ticker)\n",
        "\n",
        "# print(aa['2016'])\n",
        "# print(bb)\n",
        "# print(cc)\n"
      ],
      "execution_count": null,
      "outputs": [
        {
          "output_type": "stream",
          "name": "stdout",
          "text": [
            "https://financialmodelingprep.com/api/v3/income-statement/AAPL?period=annual&limit=5&apikey=405a786fd341c10c9e63f90f3280f388\n",
            "{'2021': {'reportedCurrency': 'USD', 'cik': '0000320193', 'fillingDate': '2021-10-29', 'acceptedDate': '2021-10-28 18:04:28', 'calendarYear': '2021', 'period': 'FY', 'revenue': 365817000000, 'costOfRevenue': 212981000000, 'grossProfit': 152836000000, 'grossProfitRatio': 0.417793596251678, 'researchAndDevelopmentExpenses': 21914000000, 'generalAndAdministrativeExpenses': 0.0, 'sellingAndMarketingExpenses': 0.0, 'sellingGeneralAndAdministrativeExpenses': 21973000000, 'otherExpenses': 0.0, 'operatingExpenses': 43887000000, 'costAndExpenses': 256868000000, 'interestExpense': 2645000000, 'depreciationAndAmortization': 11284000000, 'ebitda': 123136000000, 'ebitdaratio': 0.336605461200546, 'operatingIncome': 108949000000, 'operatingIncomeRatio': 0.298529045943737, 'totalOtherIncomeExpensesNet': -258000000, 'incomeBeforeTax': 109207000000, 'incomeBeforeTaxRatio': 0.298529045943737, 'incomeTaxExpense': 14527000000, 'netIncome': 94680000000, 'netIncomeRatio': 0.258817933556942, 'eps': 5.4563941153239, 'epsdiluted': 5.4563941153239, 'weightedAverageShsOut': 16701272000, 'weightedAverageShsOutDil': 16864919000, 'link': 'https://www.sec.gov/Archives/edgar/data/320193/000032019321000105/0000320193-21-000105-index.htm', 'finalLink': 'https://www.sec.gov/Archives/edgar/data/320193/000032019321000105/aapl-20210925.htm'}, '2020': {'reportedCurrency': 'USD', 'cik': '0000320193', 'fillingDate': '2020-10-30', 'acceptedDate': '2020-10-29 18:06:25', 'calendarYear': '2020', 'period': 'FY', 'revenue': 274515000000, 'costOfRevenue': 169559000000, 'grossProfit': 104956000000, 'grossProfitRatio': 0.38233247727810865, 'researchAndDevelopmentExpenses': 18752000000, 'generalAndAdministrativeExpenses': 19916000000, 'sellingAndMarketingExpenses': 0.0, 'sellingGeneralAndAdministrativeExpenses': 19916000000, 'otherExpenses': 0.0, 'operatingExpenses': 38668000000, 'costAndExpenses': 208227000000, 'interestExpense': 2873000000, 'depreciationAndAmortization': 11056000000, 'ebitda': 81020000000, 'ebitdaratio': 0.2951386991603373, 'operatingIncome': 66288000000, 'operatingIncomeRatio': 0.24147314354406862, 'totalOtherIncomeExpensesNet': -803000000, 'incomeBeforeTax': 67091000000, 'incomeBeforeTaxRatio': 0.24439830246070343, 'incomeTaxExpense': 9680000000, 'netIncome': 57411000000, 'netIncomeRatio': 0.20913611278072236, 'eps': 3.31, 'epsdiluted': 3.28, 'weightedAverageShsOut': 17352119000, 'weightedAverageShsOutDil': 17528214000, 'link': 'https://www.sec.gov/Archives/edgar/data/320193/000032019320000096/0000320193-20-000096-index.htm', 'finalLink': 'https://www.sec.gov/Archives/edgar/data/320193/000032019320000096/aapl-20200926.htm'}, '2019': {'reportedCurrency': 'USD', 'cik': '0000320193', 'fillingDate': '2019-10-31', 'acceptedDate': '2019-10-30 18:12:36', 'calendarYear': '2019', 'period': 'FY', 'revenue': 260174000000, 'costOfRevenue': 161782000000, 'grossProfit': 98392000000, 'grossProfitRatio': 0.3781776810903472, 'researchAndDevelopmentExpenses': 16217000000, 'generalAndAdministrativeExpenses': 18245000000, 'sellingAndMarketingExpenses': 0.0, 'sellingGeneralAndAdministrativeExpenses': 18245000000, 'otherExpenses': 0.0, 'operatingExpenses': 34462000000, 'costAndExpenses': 196244000000, 'interestExpense': 3576000000, 'depreciationAndAmortization': 12547000000, 'ebitda': 81860000000, 'ebitdaratio': 0.3146355900282119, 'operatingIncome': 63930000000, 'operatingIncomeRatio': 0.24572017188496928, 'totalOtherIncomeExpensesNet': -1807000000, 'incomeBeforeTax': 65737000000, 'incomeBeforeTaxRatio': 0.2526655238417367, 'incomeTaxExpense': 10481000000, 'netIncome': 55256000000, 'netIncomeRatio': 0.21238094505984456, 'eps': 2.9925, 'epsdiluted': 2.9725, 'weightedAverageShsOut': 18471336000, 'weightedAverageShsOutDil': 18595652000, 'link': 'https://www.sec.gov/Archives/edgar/data/320193/000032019319000119/0000320193-19-000119-index.html', 'finalLink': 'https://www.sec.gov/Archives/edgar/data/320193/000032019319000119/a10-k20199282019.htm'}, '2018': {'reportedCurrency': 'USD', 'cik': '0000320193', 'fillingDate': '2018-11-05', 'acceptedDate': '2018-11-05 08:01:40', 'calendarYear': '2018', 'period': 'FY', 'revenue': 265595000000, 'costOfRevenue': 163756000000, 'grossProfit': 101839000000, 'grossProfitRatio': 0.38343718820007905, 'researchAndDevelopmentExpenses': 14236000000, 'generalAndAdministrativeExpenses': 16705000000, 'sellingAndMarketingExpenses': 0.0, 'sellingGeneralAndAdministrativeExpenses': 16705000000, 'otherExpenses': 0.0, 'operatingExpenses': 30941000000, 'costAndExpenses': 194697000000, 'interestExpense': 3240000000, 'depreciationAndAmortization': 10903000000, 'ebitda': 87046000000, 'ebitdaratio': 0.327739603531693, 'operatingIncome': 70898000000, 'operatingIncomeRatio': 0.26694026619477024, 'totalOtherIncomeExpensesNet': -2005000000, 'incomeBeforeTax': 72903000000, 'incomeBeforeTaxRatio': 0.27448935409175623, 'incomeTaxExpense': 13372000000, 'netIncome': 59531000000, 'netIncomeRatio': 0.22414202074587247, 'eps': 3.0025, 'epsdiluted': 2.9775, 'weightedAverageShsOut': 19821508000, 'weightedAverageShsOutDil': 20000436000, 'link': 'https://www.sec.gov/Archives/edgar/data/320193/000032019318000145/0000320193-18-000145-index.html', 'finalLink': 'https://www.sec.gov/Archives/edgar/data/320193/000032019318000145/a10-k20189292018.htm'}, '2017': {'reportedCurrency': 'USD', 'cik': '0000320193', 'fillingDate': '2017-11-03', 'acceptedDate': '2017-11-03 08:01:37', 'calendarYear': '2017', 'period': 'FY', 'revenue': 229234000000, 'costOfRevenue': 141048000000, 'grossProfit': 88186000000, 'grossProfitRatio': 0.38469860491899105, 'researchAndDevelopmentExpenses': 11581000000, 'generalAndAdministrativeExpenses': 15261000000, 'sellingAndMarketingExpenses': 0.0, 'sellingGeneralAndAdministrativeExpenses': 15261000000, 'otherExpenses': 0.0, 'operatingExpenses': 26842000000, 'costAndExpenses': 167890000000, 'interestExpense': 2323000000, 'depreciationAndAmortization': 10157000000, 'ebitda': 76569000000, 'ebitdaratio': 0.33402113124580124, 'operatingIncome': 61344000000, 'operatingIncomeRatio': 0.2676042820872994, 'totalOtherIncomeExpensesNet': -2745000000, 'incomeBeforeTax': 64089000000, 'incomeBeforeTaxRatio': 0.27957894553164014, 'incomeTaxExpense': 15738000000, 'netIncome': 48351000000, 'netIncomeRatio': 0.21092420845075338, 'eps': 2.3175, 'epsdiluted': 2.3025, 'weightedAverageShsOut': 20868968000, 'weightedAverageShsOutDil': 21006768000, 'link': 'https://www.sec.gov/Archives/edgar/data/320193/000032019317000070/0000320193-17-000070-index.html', 'finalLink': 'https://www.sec.gov/Archives/edgar/data/320193/000032019317000070/a10-k20179302017.htm'}}\n",
            "https://financialmodelingprep.com/api/v3/balance-sheet-statement/AAPL?period=annual&limit=5&apikey=405a786fd341c10c9e63f90f3280f388\n",
            "{'2021': {'reportedCurrency': 'USD', 'fillingDate': '2021-10-29', 'acceptedDate': '2021-10-28 18:04:28', 'period': 'FY', 'cashAndCashEquivalents': 34940000000, 'shortTermInvestments': 27699000000, 'cashAndShortTermInvestments': 62639000000, 'netReceivables': 51506000000, 'inventory': 6580000000, 'otherCurrentAssets': 14111000000, 'totalCurrentAssets': 134836000000, 'propertyPlantEquipmentNet': 39440000000, 'goodwill': 0.0, 'intangibleAssets': 0.0, 'goodwillAndIntangibleAssets': 0.0, 'longTermInvestments': 127877000000, 'taxAssets': 0.0, 'otherNonCurrentAssets': 48849000000, 'totalNonCurrentAssets': 216166000000, 'otherAssets': 0.0, 'totalAssets': 351002000000, 'accountPayables': 54763000000, 'shortTermDebt': 15613000000, 'taxPayables': 0.0, 'deferredRevenue': 7612000000, 'otherCurrentLiabilities': 47493000000, 'totalCurrentLiabilities': 125481000000, 'longTermDebt': 109106000000, 'deferredRevenueNonCurrent': 0.0, 'deferredTaxLiabilitiesNonCurrent': 0.0, 'otherNonCurrentLiabilities': 53325000000, 'totalNonCurrentLiabilities': 162431000000, 'otherLiabilities': 0.0, 'totalLiabilities': 287912000000, 'commonStock': 57365000000, 'retainedEarnings': 5562000000, 'accumulatedOtherComprehensiveIncomeLoss': 163000000, 'othertotalStockholdersEquity': 0.0, 'totalStockholdersEquity': 63090000000, 'totalLiabilitiesAndStockholdersEquity': 351002000000, 'totalInvestments': 155576000000, 'totalDebt': 124719000000, 'netDebt': 89779000000, 'link': 'https://www.sec.gov/Archives/edgar/data/320193/000032019321000105/0000320193-21-000105-index.htm', 'finalLink': 'https://www.sec.gov/Archives/edgar/data/320193/000032019321000105/aapl-20210925.htm', 'cik': '0000320193', 'calendarYear': '2021'}, '2020': {'reportedCurrency': 'USD', 'fillingDate': '2020-10-30', 'acceptedDate': '2020-10-29 18:06:25', 'period': 'FY', 'cashAndCashEquivalents': 38016000000, 'shortTermInvestments': 52927000000, 'cashAndShortTermInvestments': 90943000000, 'netReceivables': 37445000000, 'inventory': 4061000000, 'otherCurrentAssets': 11264000000, 'totalCurrentAssets': 143713000000, 'propertyPlantEquipmentNet': 36766000000, 'goodwill': 0.0, 'intangibleAssets': 0.0, 'goodwillAndIntangibleAssets': 0.0, 'longTermInvestments': 100887000000, 'taxAssets': 0.0, 'otherNonCurrentAssets': 42522000000, 'totalNonCurrentAssets': 180175000000, 'otherAssets': 90482000000, 'totalAssets': 323888000000, 'accountPayables': 42296000000, 'shortTermDebt': 13769000000, 'taxPayables': 0.0, 'deferredRevenue': 6643000000, 'otherCurrentLiabilities': 42684000000, 'totalCurrentLiabilities': 105392000000, 'longTermDebt': 98667000000, 'deferredRevenueNonCurrent': 0.0, 'deferredTaxLiabilitiesNonCurrent': 0.0, 'otherNonCurrentLiabilities': 54490000000, 'totalNonCurrentLiabilities': 153157000000, 'otherLiabilities': 0.0, 'totalLiabilities': 258549000000, 'commonStock': 50779000000, 'retainedEarnings': 14966000000, 'accumulatedOtherComprehensiveIncomeLoss': -406000000, 'othertotalStockholdersEquity': 0.0, 'totalStockholdersEquity': 65339000000, 'totalLiabilitiesAndStockholdersEquity': 323888000000, 'totalInvestments': 153814000000, 'totalDebt': 112436000000, 'netDebt': 74420000000, 'link': 'https://www.sec.gov/Archives/edgar/data/320193/000032019320000096/0000320193-20-000096-index.htm', 'finalLink': 'https://www.sec.gov/Archives/edgar/data/320193/000032019320000096/aapl-20200926.htm', 'cik': '0000320193', 'calendarYear': '2020'}, '2019': {'reportedCurrency': 'USD', 'fillingDate': '2019-10-31', 'acceptedDate': '2019-10-30 18:12:36', 'period': 'FY', 'cashAndCashEquivalents': 48844000000, 'shortTermInvestments': 51713000000, 'cashAndShortTermInvestments': 100557000000, 'netReceivables': 45804000000, 'inventory': 4106000000, 'otherCurrentAssets': 12352000000, 'totalCurrentAssets': 162819000000, 'propertyPlantEquipmentNet': 37378000000, 'goodwill': 0.0, 'intangibleAssets': 0.0, 'goodwillAndIntangibleAssets': 0.0, 'longTermInvestments': 105341000000, 'taxAssets': 0.0, 'otherNonCurrentAssets': 32978000000, 'totalNonCurrentAssets': 175697000000, 'otherAssets': 0.0, 'totalAssets': 338516000000, 'accountPayables': 46236000000, 'shortTermDebt': 16240000000, 'taxPayables': 0.0, 'deferredRevenue': 5522000000, 'otherCurrentLiabilities': 37720000000, 'totalCurrentLiabilities': 105718000000, 'longTermDebt': 91807000000, 'deferredRevenueNonCurrent': 0.0, 'deferredTaxLiabilitiesNonCurrent': 0.0, 'otherNonCurrentLiabilities': 50503000000, 'totalNonCurrentLiabilities': 142310000000, 'otherLiabilities': 0.0, 'totalLiabilities': 248028000000, 'commonStock': 45174000000, 'retainedEarnings': 45898000000, 'accumulatedOtherComprehensiveIncomeLoss': -584000000, 'othertotalStockholdersEquity': 0.0, 'totalStockholdersEquity': 90488000000, 'totalLiabilitiesAndStockholdersEquity': 338516000000, 'totalInvestments': 157054000000, 'totalDebt': 108047000000, 'netDebt': 59203000000, 'link': 'https://www.sec.gov/Archives/edgar/data/320193/000032019319000119/0000320193-19-000119-index.htm', 'finalLink': 'https://www.sec.gov/Archives/edgar/data/320193/000032019319000119/a10-k20199282019.htm', 'cik': '0000320193', 'calendarYear': '2019'}, '2018': {'reportedCurrency': 'USD', 'fillingDate': '2018-11-05', 'acceptedDate': '2018-11-05 08:01:40', 'period': 'FY', 'cashAndCashEquivalents': 25913000000, 'shortTermInvestments': 40388000000, 'cashAndShortTermInvestments': 66301000000, 'netReceivables': 48995000000, 'inventory': 3956000000, 'otherCurrentAssets': 12087000000, 'totalCurrentAssets': 131339000000, 'propertyPlantEquipmentNet': 41304000000, 'goodwill': 0.0, 'intangibleAssets': 0.0, 'goodwillAndIntangibleAssets': 0.0, 'longTermInvestments': 170799000000, 'taxAssets': 0.0, 'otherNonCurrentAssets': 22283000000, 'totalNonCurrentAssets': 234386000000, 'otherAssets': 0.0, 'totalAssets': 365725000000, 'accountPayables': 55888000000, 'shortTermDebt': 20748000000, 'taxPayables': 0.0, 'deferredRevenue': 7543000000, 'otherCurrentLiabilities': 32687000000, 'totalCurrentLiabilities': 116866000000, 'longTermDebt': 93735000000, 'deferredRevenueNonCurrent': 2797000000, 'deferredTaxLiabilitiesNonCurrent': 426000000, 'otherNonCurrentLiabilities': 44754000000, 'totalNonCurrentLiabilities': 141712000000, 'otherLiabilities': 0.0, 'totalLiabilities': 258578000000, 'commonStock': 40201000000, 'retainedEarnings': 70400000000, 'accumulatedOtherComprehensiveIncomeLoss': -3454000000, 'othertotalStockholdersEquity': 0.0, 'totalStockholdersEquity': 107147000000, 'totalLiabilitiesAndStockholdersEquity': 365725000000, 'totalInvestments': 211187000000, 'totalDebt': 114483000000, 'netDebt': 88570000000, 'link': 'https://www.sec.gov/Archives/edgar/data/320193/000032019318000145/0000320193-18-000145-index.htm', 'finalLink': 'https://www.sec.gov/Archives/edgar/data/320193/000032019318000145/a10-k20189292018.htm', 'cik': '0000320193', 'calendarYear': '2018'}, '2017': {'reportedCurrency': 'USD', 'fillingDate': '2017-11-03', 'acceptedDate': '2017-11-03 08:01:37', 'period': 'FY', 'cashAndCashEquivalents': 20289000000, 'shortTermInvestments': 53892000000, 'cashAndShortTermInvestments': 74181000000, 'netReceivables': 35673000000, 'inventory': 4855000000, 'otherCurrentAssets': 13936000000, 'totalCurrentAssets': 128645000000, 'propertyPlantEquipmentNet': 33783000000, 'goodwill': 5717000000, 'intangibleAssets': 2298000000, 'goodwillAndIntangibleAssets': 8015000000, 'longTermInvestments': 194714000000, 'taxAssets': 0.0, 'otherNonCurrentAssets': 10162000000, 'totalNonCurrentAssets': 246674000000, 'otherAssets': 0.0, 'totalAssets': 375319000000, 'accountPayables': 49049000000, 'shortTermDebt': 18473000000, 'taxPayables': 0.0, 'deferredRevenue': 7548000000, 'otherCurrentLiabilities': 25744000000, 'totalCurrentLiabilities': 100814000000, 'longTermDebt': 97207000000, 'deferredRevenueNonCurrent': 2836000000, 'deferredTaxLiabilitiesNonCurrent': 31504000000, 'otherNonCurrentLiabilities': 8911000000, 'totalNonCurrentLiabilities': 140458000000, 'otherLiabilities': 0.0, 'totalLiabilities': 241272000000, 'commonStock': 35867000000, 'retainedEarnings': 98330000000, 'accumulatedOtherComprehensiveIncomeLoss': -150000000, 'othertotalStockholdersEquity': 0.0, 'totalStockholdersEquity': 134047000000, 'totalLiabilitiesAndStockholdersEquity': 375319000000, 'totalInvestments': 248606000000, 'totalDebt': 115680000000, 'netDebt': 95391000000, 'link': 'https://www.sec.gov/Archives/edgar/data/320193/000032019317000070/0000320193-17-000070-index.htm', 'finalLink': 'https://www.sec.gov/Archives/edgar/data/320193/000032019317000070/a10-k20179302017.htm', 'cik': '0000320193', 'calendarYear': '2017'}}\n",
            "https://financialmodelingprep.com/api/v3/cash-flow-statement/AAPL?period=annual&limit=5&apikey=405a786fd341c10c9e63f90f3280f388\n",
            "{'2021': {'reportedCurrency': 'USD', 'fillingDate': '2021-10-29', 'acceptedDate': '2021-10-28 18:04:28', 'period': 'FY', 'netIncome': 94680000000, 'depreciationAndAmortization': 11284000000, 'deferredIncomeTax': -4774000000, 'stockBasedCompensation': 7906000000, 'changeInWorkingCapital': -4911000000, 'accountsReceivables': -10125000000, 'inventory': -2642000000, 'accountsPayables': 12326000000, 'otherWorkingCapital': 1676000000, 'otherNonCashItems': -147000000, 'netCashProvidedByOperatingActivities': 104038000000, 'investmentsInPropertyPlantAndEquipment': -11085000000, 'acquisitionsNet': -33000000, 'purchasesOfInvestments': -109689000000, 'salesMaturitiesOfInvestments': 106870000000, 'otherInvestingActivites': -608000000, 'netCashUsedForInvestingActivites': -14545000000, 'debtRepayment': -8750000000, 'commonStockIssued': 1105000000, 'commonStockRepurchased': -85971000000, 'dividendsPaid': -14467000000, 'otherFinancingActivites': 14730000000, 'netCashUsedProvidedByFinancingActivities': -93353000000, 'effectOfForexChangesOnCash': 0.0, 'netChangeInCash': -3860000000, 'cashAtEndOfPeriod': 35929000000, 'cashAtBeginningOfPeriod': 39789000000, 'operatingCashFlow': 104038000000, 'capitalExpenditure': -11085000000, 'freeCashFlow': 92953000000, 'link': 'https://www.sec.gov/Archives/edgar/data/320193/000032019321000105/0000320193-21-000105-index.htm', 'finalLink': 'https://www.sec.gov/Archives/edgar/data/320193/000032019321000105/aapl-20210925.htm', 'cik': '0000320193', 'calendarYear': '2021'}, '2020': {'reportedCurrency': 'USD', 'fillingDate': '2020-10-30', 'acceptedDate': '2020-10-29 18:06:25', 'period': 'FY', 'netIncome': 57411000000, 'depreciationAndAmortization': 11056000000, 'deferredIncomeTax': -215000000, 'stockBasedCompensation': 6829000000, 'changeInWorkingCapital': -18780000000, 'accountsReceivables': 6917000000, 'inventory': -127000000, 'accountsPayables': -4062000000, 'otherWorkingCapital': 38321000000, 'otherNonCashItems': 24373000000, 'netCashProvidedByOperatingActivities': 80674000000, 'investmentsInPropertyPlantAndEquipment': -7309000000, 'acquisitionsNet': -1524000000, 'purchasesOfInvestments': -115148000000, 'salesMaturitiesOfInvestments': 120483000000, 'otherInvestingActivites': -791000000, 'netCashUsedForInvestingActivites': -4289000000, 'debtRepayment': -12629000000, 'commonStockIssued': 880000000, 'commonStockRepurchased': -72358000000, 'dividendsPaid': -14081000000, 'otherFinancingActivites': 11368000000, 'netCashUsedProvidedByFinancingActivities': -86820000000, 'effectOfForexChangesOnCash': 0.0, 'netChangeInCash': -10435000000, 'cashAtEndOfPeriod': 39789000000, 'cashAtBeginningOfPeriod': 50224000000, 'operatingCashFlow': 80674000000, 'capitalExpenditure': -7309000000, 'freeCashFlow': 73365000000, 'link': 'https://www.sec.gov/Archives/edgar/data/320193/000032019320000096/0000320193-20-000096-index.htm', 'finalLink': 'https://www.sec.gov/Archives/edgar/data/320193/000032019320000096/aapl-20200926.htm', 'cik': '0000320193', 'calendarYear': '2020'}, '2019': {'reportedCurrency': 'USD', 'fillingDate': '2019-10-31', 'acceptedDate': '2019-10-30 18:12:36', 'period': 'FY', 'netIncome': 55256000000, 'depreciationAndAmortization': 12547000000, 'deferredIncomeTax': -340000000, 'stockBasedCompensation': 6068000000, 'changeInWorkingCapital': 42628000000, 'accountsReceivables': 245000000, 'inventory': -289000000, 'accountsPayables': -1923000000, 'otherWorkingCapital': 57101000000, 'otherNonCashItems': -46768000000, 'netCashProvidedByOperatingActivities': 69391000000, 'investmentsInPropertyPlantAndEquipment': -10495000000, 'acquisitionsNet': -624000000, 'purchasesOfInvestments': -40631000000, 'salesMaturitiesOfInvestments': 98724000000, 'otherInvestingActivites': -1078000000, 'netCashUsedForInvestingActivites': 45896000000, 'debtRepayment': -8805000000, 'commonStockIssued': 781000000, 'commonStockRepurchased': -66897000000, 'dividendsPaid': -14119000000, 'otherFinancingActivites': -1936000000, 'netCashUsedProvidedByFinancingActivities': -90976000000, 'effectOfForexChangesOnCash': 0.0, 'netChangeInCash': 24311000000, 'cashAtEndOfPeriod': 50224000000, 'cashAtBeginningOfPeriod': 25913000000, 'operatingCashFlow': 69391000000, 'capitalExpenditure': -10495000000, 'freeCashFlow': 58896000000, 'link': 'https://www.sec.gov/Archives/edgar/data/320193/000032019319000119/0000320193-19-000119-index.html', 'finalLink': 'https://www.sec.gov/Archives/edgar/data/320193/000032019319000119/a10-k20199282019.htm', 'cik': '0000320193', 'calendarYear': '2019'}, '2018': {'reportedCurrency': 'USD', 'fillingDate': '2018-11-05', 'acceptedDate': '2018-11-05 08:01:40', 'period': 'FY', 'netIncome': 59531000000, 'depreciationAndAmortization': 10903000000, 'deferredIncomeTax': -32590000000, 'stockBasedCompensation': 5340000000, 'changeInWorkingCapital': -13358000000, 'accountsReceivables': -5322000000, 'inventory': 828000000, 'accountsPayables': 9175000000, 'otherWorkingCapital': 14473000000, 'otherNonCashItems': 47608000000, 'netCashProvidedByOperatingActivities': 77434000000, 'investmentsInPropertyPlantAndEquipment': -13313000000, 'acquisitionsNet': -721000000, 'purchasesOfInvestments': -73227000000, 'salesMaturitiesOfInvestments': 104072000000, 'otherInvestingActivites': -745000000, 'netCashUsedForInvestingActivites': 16066000000, 'debtRepayment': -6500000000, 'commonStockIssued': 669000000, 'commonStockRepurchased': -72738000000, 'dividendsPaid': -13712000000, 'otherFinancingActivites': 4405000000, 'netCashUsedProvidedByFinancingActivities': -87876000000, 'effectOfForexChangesOnCash': 0.0, 'netChangeInCash': 5624000000, 'cashAtEndOfPeriod': 25913000000, 'cashAtBeginningOfPeriod': 20289000000, 'operatingCashFlow': 77434000000, 'capitalExpenditure': -13313000000, 'freeCashFlow': 64121000000, 'link': 'https://www.sec.gov/Archives/edgar/data/320193/000032019318000145/0000320193-18-000145-index.html', 'finalLink': 'https://www.sec.gov/Archives/edgar/data/320193/000032019318000145/a10-k20189292018.htm', 'cik': '0000320193', 'calendarYear': '2018'}, '2017': {'reportedCurrency': 'USD', 'fillingDate': '2017-11-03', 'acceptedDate': '2017-11-03 08:01:37', 'period': 'FY', 'netIncome': 48351000000, 'depreciationAndAmortization': 10157000000, 'deferredIncomeTax': 5966000000, 'stockBasedCompensation': 4840000000, 'changeInWorkingCapital': -32000000, 'accountsReceivables': -2093000000, 'inventory': -2723000000, 'accountsPayables': 9618000000, 'otherWorkingCapital': 27831000000, 'otherNonCashItems': -5684000000, 'netCashProvidedByOperatingActivities': 63598000000, 'investmentsInPropertyPlantAndEquipment': -12451000000, 'acquisitionsNet': -329000000, 'purchasesOfInvestments': -159881000000, 'salesMaturitiesOfInvestments': 126339000000, 'otherInvestingActivites': -124000000, 'netCashUsedForInvestingActivites': -46446000000, 'debtRepayment': -3500000000, 'commonStockIssued': 555000000, 'commonStockRepurchased': -32900000000, 'dividendsPaid': -12769000000, 'otherFinancingActivites': 31267000000, 'netCashUsedProvidedByFinancingActivities': -17347000000, 'effectOfForexChangesOnCash': 0.0, 'netChangeInCash': -195000000, 'cashAtEndOfPeriod': 20289000000, 'cashAtBeginningOfPeriod': 20484000000, 'operatingCashFlow': 63598000000, 'capitalExpenditure': -12795000000, 'freeCashFlow': 50803000000, 'link': 'https://www.sec.gov/Archives/edgar/data/320193/000032019317000070/0000320193-17-000070-index.html', 'finalLink': 'https://www.sec.gov/Archives/edgar/data/320193/000032019317000070/a10-k20179302017.htm', 'cik': '0000320193', 'calendarYear': '2017'}}\n",
            "                                                                                       2021  ...                                               2017\n",
            "reportedCurrency                                                                        USD  ...                                                USD\n",
            "fillingDate                                                                      2021-10-29  ...                                         2017-11-03\n",
            "acceptedDate                                                            2021-10-28 18:04:28  ...                                2017-11-03 08:01:37\n",
            "period                                                                                   FY  ...                                                 FY\n",
            "netIncome                                                                       94680000000  ...                                        48351000000\n",
            "depreciationAndAmortization                                                     11284000000  ...                                        10157000000\n",
            "deferredIncomeTax                                                               -4774000000  ...                                         5966000000\n",
            "stockBasedCompensation                                                           7906000000  ...                                         4840000000\n",
            "changeInWorkingCapital                                                          -4911000000  ...                                          -32000000\n",
            "accountsReceivables                                                            -10125000000  ...                                        -2093000000\n",
            "inventory                                                                       -2642000000  ...                                        -2723000000\n",
            "accountsPayables                                                                12326000000  ...                                         9618000000\n",
            "otherWorkingCapital                                                              1676000000  ...                                        27831000000\n",
            "otherNonCashItems                                                                -147000000  ...                                        -5684000000\n",
            "netCashProvidedByOperatingActivities                                           104038000000  ...                                        63598000000\n",
            "investmentsInPropertyPlantAndEquipment                                         -11085000000  ...                                       -12451000000\n",
            "acquisitionsNet                                                                   -33000000  ...                                         -329000000\n",
            "purchasesOfInvestments                                                        -109689000000  ...                                      -159881000000\n",
            "salesMaturitiesOfInvestments                                                   106870000000  ...                                       126339000000\n",
            "otherInvestingActivites                                                          -608000000  ...                                         -124000000\n",
            "netCashUsedForInvestingActivites                                               -14545000000  ...                                       -46446000000\n",
            "debtRepayment                                                                   -8750000000  ...                                        -3500000000\n",
            "commonStockIssued                                                                1105000000  ...                                          555000000\n",
            "commonStockRepurchased                                                         -85971000000  ...                                       -32900000000\n",
            "dividendsPaid                                                                  -14467000000  ...                                       -12769000000\n",
            "otherFinancingActivites                                                         14730000000  ...                                        31267000000\n",
            "netCashUsedProvidedByFinancingActivities                                       -93353000000  ...                                       -17347000000\n",
            "effectOfForexChangesOnCash                                                                0  ...                                                  0\n",
            "netChangeInCash                                                                 -3860000000  ...                                         -195000000\n",
            "cashAtEndOfPeriod                                                               35929000000  ...                                        20289000000\n",
            "cashAtBeginningOfPeriod                                                         39789000000  ...                                        20484000000\n",
            "operatingCashFlow                                                              104038000000  ...                                        63598000000\n",
            "capitalExpenditure                                                             -11085000000  ...                                       -12795000000\n",
            "freeCashFlow                                                                    92953000000  ...                                        50803000000\n",
            "link                                      https://www.sec.gov/Archives/edgar/data/320193...  ...  https://www.sec.gov/Archives/edgar/data/320193...\n",
            "finalLink                                 https://www.sec.gov/Archives/edgar/data/320193...  ...  https://www.sec.gov/Archives/edgar/data/320193...\n",
            "cik                                                                              0000320193  ...                                         0000320193\n",
            "calendarYear                                                                           2021  ...                                               2017\n",
            "\n",
            "[38 rows x 5 columns]\n"
          ]
        }
      ]
    },
    {
      "cell_type": "markdown",
      "metadata": {
        "id": "F2EMGnOdkHm7"
      },
      "source": [
        "## Analysis of Income Statement\n",
        "\n",
        "Here I analyse the income statement and plot the figures"
      ]
    },
    {
      "cell_type": "markdown",
      "metadata": {
        "id": "sq4EnO4qn9ek"
      },
      "source": [
        "## Analysis of Balance Sheet\n",
        "\n",
        "Here I anlyse the balance sheet and plot the corresponding figures"
      ]
    },
    {
      "cell_type": "markdown",
      "metadata": {
        "id": "Gn34H0zcohDP"
      },
      "source": [
        "## Analysis of Cash Flow Statement\n",
        "\n",
        "Here I analyse the cash flow statement of the company"
      ]
    },
    {
      "cell_type": "markdown",
      "metadata": {
        "id": "PtsovPq-ov0J"
      },
      "source": [
        "## Analysis of financial ratios\n",
        "\n",
        "Here I calculate some important financial ratios and plot La Gráfica de las Lamentaciones"
      ]
    },
    {
      "cell_type": "markdown",
      "metadata": {
        "id": "CSZTLpjNpCaW"
      },
      "source": [
        "# Valuation of companies \n",
        "\n",
        "Here I will use the information from the FA to calculate the fair value of the company based on their fundamentals."
      ]
    }
  ]
}